{
 "cells": [
  {
   "cell_type": "code",
   "execution_count": 1,
   "id": "aa4fb988",
   "metadata": {},
   "outputs": [
    {
     "name": "stdout",
     "output_type": "stream",
     "text": [
      "Requirement already satisfied: jupysql in c:\\users\\homepc\\anaconda3\\lib\\site-packages (0.11.1)\n",
      "Requirement already satisfied: prettytable in c:\\users\\homepc\\anaconda3\\lib\\site-packages (3.16.0)\n",
      "Requirement already satisfied: sqlalchemy in c:\\users\\homepc\\anaconda3\\lib\\site-packages (from jupysql) (2.0.39)\n",
      "Requirement already satisfied: sqlparse in c:\\users\\homepc\\anaconda3\\lib\\site-packages (from jupysql) (0.5.3)\n",
      "Requirement already satisfied: ipython-genutils>=0.1.0 in c:\\users\\homepc\\anaconda3\\lib\\site-packages (from jupysql) (0.2.0)\n",
      "Requirement already satisfied: jinja2 in c:\\users\\homepc\\anaconda3\\lib\\site-packages (from jupysql) (3.1.6)\n",
      "Requirement already satisfied: sqlglot>=11.3.7 in c:\\users\\homepc\\anaconda3\\lib\\site-packages (from jupysql) (27.28.1)\n",
      "Requirement already satisfied: jupysql-plugin>=0.4.2 in c:\\users\\homepc\\anaconda3\\lib\\site-packages (from jupysql) (0.4.5)\n",
      "Requirement already satisfied: ploomber-core>=0.2.7 in c:\\users\\homepc\\anaconda3\\lib\\site-packages (from jupysql) (0.2.27)\n",
      "Requirement already satisfied: wcwidth in c:\\users\\homepc\\anaconda3\\lib\\site-packages (from prettytable) (0.2.5)\n",
      "Requirement already satisfied: pyyaml in c:\\users\\homepc\\anaconda3\\lib\\site-packages (from ploomber-core>=0.2.7->jupysql) (6.0.2)\n",
      "Requirement already satisfied: posthog>=3.0 in c:\\users\\homepc\\anaconda3\\lib\\site-packages (from ploomber-core>=0.2.7->jupysql) (6.7.10)\n",
      "Requirement already satisfied: requests<3.0,>=2.7 in c:\\users\\homepc\\anaconda3\\lib\\site-packages (from posthog>=3.0->ploomber-core>=0.2.7->jupysql) (2.32.3)\n",
      "Requirement already satisfied: six>=1.5 in c:\\users\\homepc\\anaconda3\\lib\\site-packages (from posthog>=3.0->ploomber-core>=0.2.7->jupysql) (1.17.0)\n",
      "Requirement already satisfied: python-dateutil>=2.2 in c:\\users\\homepc\\anaconda3\\lib\\site-packages (from posthog>=3.0->ploomber-core>=0.2.7->jupysql) (2.9.0.post0)\n",
      "Requirement already satisfied: backoff>=1.10.0 in c:\\users\\homepc\\anaconda3\\lib\\site-packages (from posthog>=3.0->ploomber-core>=0.2.7->jupysql) (2.2.1)\n",
      "Requirement already satisfied: distro>=1.5.0 in c:\\users\\homepc\\anaconda3\\lib\\site-packages (from posthog>=3.0->ploomber-core>=0.2.7->jupysql) (1.9.0)\n",
      "Requirement already satisfied: typing-extensions>=4.2.0 in c:\\users\\homepc\\anaconda3\\lib\\site-packages (from posthog>=3.0->ploomber-core>=0.2.7->jupysql) (4.12.2)\n",
      "Requirement already satisfied: charset-normalizer<4,>=2 in c:\\users\\homepc\\anaconda3\\lib\\site-packages (from requests<3.0,>=2.7->posthog>=3.0->ploomber-core>=0.2.7->jupysql) (3.3.2)\n",
      "Requirement already satisfied: idna<4,>=2.5 in c:\\users\\homepc\\anaconda3\\lib\\site-packages (from requests<3.0,>=2.7->posthog>=3.0->ploomber-core>=0.2.7->jupysql) (3.7)\n",
      "Requirement already satisfied: urllib3<3,>=1.21.1 in c:\\users\\homepc\\anaconda3\\lib\\site-packages (from requests<3.0,>=2.7->posthog>=3.0->ploomber-core>=0.2.7->jupysql) (2.3.0)\n",
      "Requirement already satisfied: certifi>=2017.4.17 in c:\\users\\homepc\\anaconda3\\lib\\site-packages (from requests<3.0,>=2.7->posthog>=3.0->ploomber-core>=0.2.7->jupysql) (2025.8.3)\n",
      "Requirement already satisfied: MarkupSafe>=2.0 in c:\\users\\homepc\\anaconda3\\lib\\site-packages (from jinja2->jupysql) (3.0.2)\n",
      "Requirement already satisfied: greenlet!=0.4.17 in c:\\users\\homepc\\anaconda3\\lib\\site-packages (from sqlalchemy->jupysql) (3.1.1)\n",
      "Note: you may need to restart the kernel to use updated packages.\n"
     ]
    }
   ],
   "source": [
    "%pip install jupysql prettytable --upgrade"
   ]
  },
  {
   "cell_type": "code",
   "execution_count": 2,
   "id": "094ccdbc",
   "metadata": {},
   "outputs": [],
   "source": [
    "%load_ext sql"
   ]
  },
  {
   "cell_type": "code",
   "execution_count": 3,
   "id": "0f8fee71",
   "metadata": {},
   "outputs": [
    {
     "data": {
      "text/html": [
       "<span style=\"None\">Connecting to &#x27;sqlite:///hng_ride.db&#x27;</span>"
      ],
      "text/plain": [
       "Connecting to 'sqlite:///hng_ride.db'"
      ]
     },
     "metadata": {},
     "output_type": "display_data"
    }
   ],
   "source": [
    "# This creates the connection for the %%sql magic\n",
    "%sql sqlite:///hng_ride.db"
   ]
  },
  {
   "cell_type": "code",
   "execution_count": 153,
   "id": "9436d7ed",
   "metadata": {},
   "outputs": [
    {
     "data": {
      "text/html": [
       "<span style=\"None\">Running query in &#x27;sqlite:///hng_ride.db&#x27;</span>"
      ],
      "text/plain": [
       "Running query in 'sqlite:///hng_ride.db'"
      ]
     },
     "metadata": {},
     "output_type": "display_data"
    },
    {
     "data": {
      "text/html": [
       "<table>\n",
       "    <thead>\n",
       "        <tr>\n",
       "            <th>cid</th>\n",
       "            <th>name</th>\n",
       "            <th>type</th>\n",
       "            <th>notnull</th>\n",
       "            <th>dflt_value</th>\n",
       "            <th>pk</th>\n",
       "        </tr>\n",
       "    </thead>\n",
       "    <tbody>\n",
       "        <tr>\n",
       "            <td>0</td>\n",
       "            <td>driver_id</td>\n",
       "            <td>REAL</td>\n",
       "            <td>0</td>\n",
       "            <td>None</td>\n",
       "            <td>0</td>\n",
       "        </tr>\n",
       "        <tr>\n",
       "            <td>1</td>\n",
       "            <td>name</td>\n",
       "            <td>TEXT</td>\n",
       "            <td>0</td>\n",
       "            <td>None</td>\n",
       "            <td>0</td>\n",
       "        </tr>\n",
       "        <tr>\n",
       "            <td>2</td>\n",
       "            <td>city</td>\n",
       "            <td>TEXT</td>\n",
       "            <td>0</td>\n",
       "            <td>None</td>\n",
       "            <td>0</td>\n",
       "        </tr>\n",
       "        <tr>\n",
       "            <td>3</td>\n",
       "            <td>signup_date</td>\n",
       "            <td>TIMESTAMP</td>\n",
       "            <td>0</td>\n",
       "            <td>None</td>\n",
       "            <td>0</td>\n",
       "        </tr>\n",
       "        <tr>\n",
       "            <td>4</td>\n",
       "            <td>rating</td>\n",
       "            <td>REAL</td>\n",
       "            <td>0</td>\n",
       "            <td>None</td>\n",
       "            <td>0</td>\n",
       "        </tr>\n",
       "    </tbody>\n",
       "</table>"
      ],
      "text/plain": [
       "+-----+-------------+-----------+---------+------------+----+\n",
       "| cid |     name    |    type   | notnull | dflt_value | pk |\n",
       "+-----+-------------+-----------+---------+------------+----+\n",
       "|  0  |  driver_id  |    REAL   |    0    |    None    | 0  |\n",
       "|  1  |     name    |    TEXT   |    0    |    None    | 0  |\n",
       "|  2  |     city    |    TEXT   |    0    |    None    | 0  |\n",
       "|  3  | signup_date | TIMESTAMP |    0    |    None    | 0  |\n",
       "|  4  |    rating   |    REAL   |    0    |    None    | 0  |\n",
       "+-----+-------------+-----------+---------+------------+----+"
      ]
     },
     "execution_count": 153,
     "metadata": {},
     "output_type": "execute_result"
    }
   ],
   "source": [
    "%%sql\n",
    "PRAGMA table_info(drivers)"
   ]
  },
  {
   "cell_type": "markdown",
   "id": "e5b3b864",
   "metadata": {},
   "source": [
    "Find the top 10 longest rides (by distance), including driver name, rider name, pickup/dropoff cities, and payment method."
   ]
  },
  {
   "cell_type": "code",
   "execution_count": 31,
   "id": "e5f70096",
   "metadata": {},
   "outputs": [
    {
     "data": {
      "text/html": [
       "<span style=\"None\">Running query in &#x27;sqlite:///hng_ride.db&#x27;</span>"
      ],
      "text/plain": [
       "Running query in 'sqlite:///hng_ride.db'"
      ]
     },
     "metadata": {},
     "output_type": "display_data"
    },
    {
     "data": {
      "text/html": [
       "<table>\n",
       "    <thead>\n",
       "        <tr>\n",
       "            <th>distance_km</th>\n",
       "            <th>driver_name</th>\n",
       "            <th>rider_name</th>\n",
       "            <th>pickup_city</th>\n",
       "            <th>dropoff_city</th>\n",
       "            <th>amount</th>\n",
       "        </tr>\n",
       "    </thead>\n",
       "    <tbody>\n",
       "        <tr>\n",
       "            <td>30.0</td>\n",
       "            <td>Driver_1774</td>\n",
       "            <td>Rider_292</td>\n",
       "            <td>Calgary</td>\n",
       "            <td>Los Angeles</td>\n",
       "            <td>74.33</td>\n",
       "        </tr>\n",
       "        <tr>\n",
       "            <td>30.0</td>\n",
       "            <td>Driver_1886</td>\n",
       "            <td>Rider_6131</td>\n",
       "            <td>Ottawa</td>\n",
       "            <td>Vancouver</td>\n",
       "            <td>79.21</td>\n",
       "        </tr>\n",
       "        <tr>\n",
       "            <td>29.99</td>\n",
       "            <td>Driver_862</td>\n",
       "            <td>Rider_2993</td>\n",
       "            <td>Los Angeles</td>\n",
       "            <td>Toronto</td>\n",
       "            <td>75.94</td>\n",
       "        </tr>\n",
       "        <tr>\n",
       "            <td>29.99</td>\n",
       "            <td>Driver_1574</td>\n",
       "            <td>Rider_9364</td>\n",
       "            <td>Boston</td>\n",
       "            <td>Toronto</td>\n",
       "            <td>82.78</td>\n",
       "        </tr>\n",
       "        <tr>\n",
       "            <td>29.99</td>\n",
       "            <td>Driver_1406</td>\n",
       "            <td>Rider_3294</td>\n",
       "            <td>New York</td>\n",
       "            <td>Toronto</td>\n",
       "            <td>84.76</td>\n",
       "        </tr>\n",
       "        <tr>\n",
       "            <td>29.99</td>\n",
       "            <td>Driver_1093</td>\n",
       "            <td>Rider_7646</td>\n",
       "            <td>Calgary</td>\n",
       "            <td>Boston</td>\n",
       "            <td>80.96</td>\n",
       "        </tr>\n",
       "        <tr>\n",
       "            <td>29.99</td>\n",
       "            <td>Driver_1832</td>\n",
       "            <td>Rider_7213</td>\n",
       "            <td>Ottawa</td>\n",
       "            <td>New York</td>\n",
       "            <td>71.63</td>\n",
       "        </tr>\n",
       "        <tr>\n",
       "            <td>29.99</td>\n",
       "            <td>Driver_1343</td>\n",
       "            <td>Rider_9618</td>\n",
       "            <td>Calgary</td>\n",
       "            <td>New York</td>\n",
       "            <td>79.87</td>\n",
       "        </tr>\n",
       "        <tr>\n",
       "            <td>29.99</td>\n",
       "            <td>Driver_1752</td>\n",
       "            <td>Rider_2994</td>\n",
       "            <td>Ottawa</td>\n",
       "            <td>Chicago</td>\n",
       "            <td>76.92</td>\n",
       "        </tr>\n",
       "        <tr>\n",
       "            <td>29.99</td>\n",
       "            <td>Driver_545</td>\n",
       "            <td>Rider_3255</td>\n",
       "            <td>Ottawa</td>\n",
       "            <td>San Francisco</td>\n",
       "            <td>76.32</td>\n",
       "        </tr>\n",
       "    </tbody>\n",
       "</table>\n",
       "<span style=\"font-style:italic;text-align:center;\">Truncated to <a href=\"https://jupysql.ploomber.io/en/latest/api/configuration.html#displaylimit\">displaylimit</a> of 10.</span>"
      ],
      "text/plain": [
       "+-------------+-------------+------------+-------------+---------------+--------+\n",
       "| distance_km | driver_name | rider_name | pickup_city |  dropoff_city | amount |\n",
       "+-------------+-------------+------------+-------------+---------------+--------+\n",
       "|     30.0    | Driver_1774 | Rider_292  |   Calgary   |  Los Angeles  | 74.33  |\n",
       "|     30.0    | Driver_1886 | Rider_6131 |    Ottawa   |   Vancouver   | 79.21  |\n",
       "|    29.99    |  Driver_862 | Rider_2993 | Los Angeles |    Toronto    | 75.94  |\n",
       "|    29.99    | Driver_1574 | Rider_9364 |    Boston   |    Toronto    | 82.78  |\n",
       "|    29.99    | Driver_1406 | Rider_3294 |   New York  |    Toronto    | 84.76  |\n",
       "|    29.99    | Driver_1093 | Rider_7646 |   Calgary   |     Boston    | 80.96  |\n",
       "|    29.99    | Driver_1832 | Rider_7213 |    Ottawa   |    New York   | 71.63  |\n",
       "|    29.99    | Driver_1343 | Rider_9618 |   Calgary   |    New York   | 79.87  |\n",
       "|    29.99    | Driver_1752 | Rider_2994 |    Ottawa   |    Chicago    | 76.92  |\n",
       "|    29.99    |  Driver_545 | Rider_3255 |    Ottawa   | San Francisco | 76.32  |\n",
       "+-------------+-------------+------------+-------------+---------------+--------+\n",
       "Truncated to displaylimit of 10."
      ]
     },
     "execution_count": 31,
     "metadata": {},
     "output_type": "execute_result"
    }
   ],
   "source": [
    "%%sql\n",
    "SELECT  rd.distance_km, \n",
    "        dr.name as driver_name, \n",
    "        rdr.name as rider_name,\n",
    "        rd.pickup_city,\n",
    "        rd.dropoff_city,\n",
    "        pym.amount\n",
    "FROM rides rd\n",
    "JOIN drivers dr\n",
    "ON rd.driver_id = dr.driver_id\n",
    "JOIN riders rdr\n",
    "ON rd.rider_id = rdr.rider_id\n",
    "JOIN payments pym\n",
    "ON rd.ride_id = pym.ride_id\n",
    "WHERE \n",
    "    pym.amount > 0\n",
    "    AND rd.request_time BETWEEN '2022-06-01 00:00' AND '2024-12-31 23:59'\n",
    "ORDER BY rd.distance_km DESC\n",
    "LIMIT 10"
   ]
  },
  {
   "cell_type": "markdown",
   "id": "c49bdc21",
   "metadata": {},
   "source": [
    "How many riders who signed up in 2021 still took rides in 2024?"
   ]
  },
  {
   "cell_type": "code",
   "execution_count": 46,
   "id": "a720e768",
   "metadata": {},
   "outputs": [
    {
     "data": {
      "text/html": [
       "<span style=\"None\">Running query in &#x27;sqlite:///hng_ride.db&#x27;</span>"
      ],
      "text/plain": [
       "Running query in 'sqlite:///hng_ride.db'"
      ]
     },
     "metadata": {},
     "output_type": "display_data"
    },
    {
     "data": {
      "text/html": [
       "<table>\n",
       "    <thead>\n",
       "        <tr>\n",
       "            <th>Active_Riders</th>\n",
       "        </tr>\n",
       "    </thead>\n",
       "    <tbody>\n",
       "        <tr>\n",
       "            <td>2051</td>\n",
       "        </tr>\n",
       "    </tbody>\n",
       "</table>"
      ],
      "text/plain": [
       "+---------------+\n",
       "| Active_Riders |\n",
       "+---------------+\n",
       "|      2051     |\n",
       "+---------------+"
      ]
     },
     "execution_count": 46,
     "metadata": {},
     "output_type": "execute_result"
    }
   ],
   "source": [
    "%%sql\n",
    "\n",
    "SELECT COUNT(DISTINCT rd.rider_id) AS Active_Riders\n",
    "FROM rides rd\n",
    "JOIN riders rdr\n",
    "ON rd.rider_id = rdr.rider_id\n",
    "WHERE request_time BETWEEN '2024-01-01 00:00' AND '2024-12-31 23:59'\n",
    "AND rdr.signup_date BETWEEN '2021-01-01 00:00' AND '2021-12-31 23:59'"
   ]
  },
  {
   "cell_type": "markdown",
   "id": "4740bb1d",
   "metadata": {},
   "source": [
    "Compare quarterly revenue between 2021, 2022, 2023, and 2024. Which quarter had the biggest YoY growth?"
   ]
  },
  {
   "cell_type": "code",
   "execution_count": 59,
   "id": "534fb3a8",
   "metadata": {},
   "outputs": [
    {
     "data": {
      "text/html": [
       "<span style=\"None\">Running query in &#x27;sqlite:///hng_ride.db&#x27;</span>"
      ],
      "text/plain": [
       "Running query in 'sqlite:///hng_ride.db'"
      ]
     },
     "metadata": {},
     "output_type": "display_data"
    },
    {
     "data": {
      "text/html": [
       "<table>\n",
       "    <thead>\n",
       "        <tr>\n",
       "            <th>SalesYear</th>\n",
       "            <th>SalesQuarter</th>\n",
       "            <th>QuarterRevenue</th>\n",
       "            <th>PrevYearRevenue</th>\n",
       "            <th>YOYGrowthPercentage</th>\n",
       "        </tr>\n",
       "    </thead>\n",
       "    <tbody>\n",
       "        <tr>\n",
       "            <td>2024</td>\n",
       "            <td>4</td>\n",
       "            <td>102246.26</td>\n",
       "            <td>98280.14</td>\n",
       "            <td>4.035525386919469</td>\n",
       "        </tr>\n",
       "        <tr>\n",
       "            <td>2024</td>\n",
       "            <td>3</td>\n",
       "            <td>103441.88</td>\n",
       "            <td>100238.16</td>\n",
       "            <td>3.196108148832741</td>\n",
       "        </tr>\n",
       "        <tr>\n",
       "            <td>2022</td>\n",
       "            <td>4</td>\n",
       "            <td>103944.7</td>\n",
       "            <td>101070.2</td>\n",
       "            <td>2.8440628394917593</td>\n",
       "        </tr>\n",
       "        <tr>\n",
       "            <td>2022</td>\n",
       "            <td>1</td>\n",
       "            <td>102518.55</td>\n",
       "            <td>100416.21</td>\n",
       "            <td>2.0936261187312253</td>\n",
       "        </tr>\n",
       "        <tr>\n",
       "            <td>2023</td>\n",
       "            <td>2</td>\n",
       "            <td>102557.18</td>\n",
       "            <td>102263.56</td>\n",
       "            <td>0.28712084734777016</td>\n",
       "        </tr>\n",
       "        <tr>\n",
       "            <td>2022</td>\n",
       "            <td>3</td>\n",
       "            <td>106099.28</td>\n",
       "            <td>106038.77</td>\n",
       "            <td>0.057064034220686226</td>\n",
       "        </tr>\n",
       "        <tr>\n",
       "            <td>2023</td>\n",
       "            <td>1</td>\n",
       "            <td>100544.36</td>\n",
       "            <td>102518.55</td>\n",
       "            <td>-1.925690521373939</td>\n",
       "        </tr>\n",
       "        <tr>\n",
       "            <td>2022</td>\n",
       "            <td>2</td>\n",
       "            <td>102263.56</td>\n",
       "            <td>105637.47</td>\n",
       "            <td>-3.1938572553848585</td>\n",
       "        </tr>\n",
       "        <tr>\n",
       "            <td>2024</td>\n",
       "            <td>2</td>\n",
       "            <td>97725.02</td>\n",
       "            <td>102557.18</td>\n",
       "            <td>-4.711674014437594</td>\n",
       "        </tr>\n",
       "        <tr>\n",
       "            <td>2024</td>\n",
       "            <td>1</td>\n",
       "            <td>95315.63</td>\n",
       "            <td>100544.36</td>\n",
       "            <td>-5.200420988308042</td>\n",
       "        </tr>\n",
       "    </tbody>\n",
       "</table>\n",
       "<span style=\"font-style:italic;text-align:center;\">Truncated to <a href=\"https://jupysql.ploomber.io/en/latest/api/configuration.html#displaylimit\">displaylimit</a> of 10.</span>"
      ],
      "text/plain": [
       "+-----------+--------------+----------------+-----------------+----------------------+\n",
       "| SalesYear | SalesQuarter | QuarterRevenue | PrevYearRevenue | YOYGrowthPercentage  |\n",
       "+-----------+--------------+----------------+-----------------+----------------------+\n",
       "|    2024   |      4       |   102246.26    |     98280.14    |  4.035525386919469   |\n",
       "|    2024   |      3       |   103441.88    |    100238.16    |  3.196108148832741   |\n",
       "|    2022   |      4       |    103944.7    |     101070.2    |  2.8440628394917593  |\n",
       "|    2022   |      1       |   102518.55    |    100416.21    |  2.0936261187312253  |\n",
       "|    2023   |      2       |   102557.18    |    102263.56    | 0.28712084734777016  |\n",
       "|    2022   |      3       |   106099.28    |    106038.77    | 0.057064034220686226 |\n",
       "|    2023   |      1       |   100544.36    |    102518.55    |  -1.925690521373939  |\n",
       "|    2022   |      2       |   102263.56    |    105637.47    | -3.1938572553848585  |\n",
       "|    2024   |      2       |    97725.02    |    102557.18    |  -4.711674014437594  |\n",
       "|    2024   |      1       |    95315.63    |    100544.36    |  -5.200420988308042  |\n",
       "+-----------+--------------+----------------+-----------------+----------------------+\n",
       "Truncated to displaylimit of 10."
      ]
     },
     "execution_count": 59,
     "metadata": {},
     "output_type": "execute_result"
    }
   ],
   "source": [
    "%%sql\n",
    "WITH QuarterlyRevenue AS (\n",
    "    SELECT\n",
    "        strftime('%Y', paid_date) AS SalesYear,\n",
    "        (strftime('%m', paid_date) - 1) / 3 + 1 AS SalesQuarter,\n",
    "        SUM(amount) AS QuarterRevenue\n",
    "    FROM\n",
    "        payments\n",
    "    WHERE \n",
    "        amount > 0\n",
    "        AND paid_date BETWEEN '2021-01-01 00:00' AND '2024-12-31 23:59'\n",
    "    GROUP BY\n",
    "        SalesYear,\n",
    "        SalesQuarter\n",
    "),\n",
    "YOYGrowth AS (\n",
    "    SELECT \n",
    "        SalesYear,\n",
    "        SalesQuarter,\n",
    "        QuarterRevenue,\n",
    "        LAG(QuarterRevenue, 1, 0) OVER(\n",
    "            PARTITION BY SalesQuarter\n",
    "            ORDER BY SalesYear\n",
    "        ) as PrevYearRevenue\n",
    "    FROM\n",
    "        QuarterlyRevenue\n",
    ")\n",
    "SELECT\n",
    "    SalesYear,\n",
    "    SalesQuarter,\n",
    "    QuarterRevenue,\n",
    "    PrevYearRevenue,\n",
    "    (QuarterRevenue - PrevYearRevenue) * 100 / NULLIF(PrevYearRevenue, 0) AS YOYGrowthPercentage\n",
    "FROM\n",
    "    YOYGrowth\n",
    "WHERE \n",
    "    PrevYearRevenue > 0\n",
    "ORDER BY\n",
    "    YOYGrowthPercentage DESC"
   ]
  },
  {
   "cell_type": "markdown",
   "id": "7a6f42a1",
   "metadata": {},
   "source": [
    "For each driver, calculate their average monthly rides since signup. Who are the top 5 drivers with the highest consistency (most rides per active month)?"
   ]
  },
  {
   "cell_type": "code",
   "execution_count": 93,
   "id": "63a3d436",
   "metadata": {},
   "outputs": [
    {
     "data": {
      "text/html": [
       "<span style=\"None\">Running query in &#x27;sqlite:///hng_ride.db&#x27;</span>"
      ],
      "text/plain": [
       "Running query in 'sqlite:///hng_ride.db'"
      ]
     },
     "metadata": {},
     "output_type": "display_data"
    },
    {
     "data": {
      "text/html": [
       "<table>\n",
       "    <thead>\n",
       "        <tr>\n",
       "            <th>name</th>\n",
       "            <th>total_rides_completed</th>\n",
       "            <th>total_months_active</th>\n",
       "            <th>rides_per_active_month</th>\n",
       "        </tr>\n",
       "    </thead>\n",
       "    <tbody>\n",
       "        <tr>\n",
       "            <td>Driver_219</td>\n",
       "            <td>31</td>\n",
       "            <td>13</td>\n",
       "            <td>2.3846153846153846</td>\n",
       "        </tr>\n",
       "        <tr>\n",
       "            <td>Driver_1005</td>\n",
       "            <td>31</td>\n",
       "            <td>14</td>\n",
       "            <td>2.2142857142857144</td>\n",
       "        </tr>\n",
       "        <tr>\n",
       "            <td>Driver_1029</td>\n",
       "            <td>28</td>\n",
       "            <td>13</td>\n",
       "            <td>2.1538461538461537</td>\n",
       "        </tr>\n",
       "        <tr>\n",
       "            <td>Driver_363</td>\n",
       "            <td>26</td>\n",
       "            <td>14</td>\n",
       "            <td>1.8571428571428572</td>\n",
       "        </tr>\n",
       "        <tr>\n",
       "            <td>Driver_1355</td>\n",
       "            <td>26</td>\n",
       "            <td>14</td>\n",
       "            <td>1.8571428571428572</td>\n",
       "        </tr>\n",
       "    </tbody>\n",
       "</table>"
      ],
      "text/plain": [
       "+-------------+-----------------------+---------------------+------------------------+\n",
       "|     name    | total_rides_completed | total_months_active | rides_per_active_month |\n",
       "+-------------+-----------------------+---------------------+------------------------+\n",
       "|  Driver_219 |           31          |          13         |   2.3846153846153846   |\n",
       "| Driver_1005 |           31          |          14         |   2.2142857142857144   |\n",
       "| Driver_1029 |           28          |          13         |   2.1538461538461537   |\n",
       "|  Driver_363 |           26          |          14         |   1.8571428571428572   |\n",
       "| Driver_1355 |           26          |          14         |   1.8571428571428572   |\n",
       "+-------------+-----------------------+---------------------+------------------------+"
      ]
     },
     "execution_count": 93,
     "metadata": {},
     "output_type": "execute_result"
    }
   ],
   "source": [
    "%%sql\n",
    "WITH DriverActiveMonth AS (\n",
    "    SELECT\n",
    "        driver_id,\n",
    "        name,\n",
    "        (strftime('%Y', '2024-12-31') - strftime('%Y', signup_date)) * 12 +\n",
    "        (strftime('%m', '2024-12-31') - strftime('%m', signup_date)) + 1 AS total_months_active\n",
    "    FROM\n",
    "        drivers\n",
    "),\n",
    "DriverTotalRides AS (\n",
    "    SELECT \n",
    "        rd.driver_id,\n",
    "        COUNT(rd.ride_id) AS total_rides_completed\n",
    "    FROM rides rd\n",
    "    JOIN payments pym\n",
    "    ON rd.ride_id = pym.ride_id\n",
    "    WHERE pym.amount > 0\n",
    "    AND rd.request_time BETWEEN '2021-06-01' AND '2024-12-31'\n",
    "    GROUP BY rd.driver_id\n",
    ")\n",
    "SELECT \n",
    "    d.name,\n",
    "    dt.total_rides_completed,\n",
    "    d.total_months_active,\n",
    "    (CAST(dt.total_rides_completed AS REAL) / d.total_months_active) AS rides_per_active_month\n",
    "FROM DriverActiveMonth d\n",
    "JOIN DriverTotalRides dt\n",
    "ON dt.driver_id = d.driver_id\n",
    "ORDER BY rides_per_active_month DESC\n",
    "LIMIT 5"
   ]
  },
  {
   "cell_type": "code",
   "execution_count": null,
   "id": "cb8e4b3e",
   "metadata": {},
   "outputs": [],
   "source": []
  },
  {
   "cell_type": "code",
   "execution_count": 83,
   "id": "c029556f",
   "metadata": {},
   "outputs": [
    {
     "data": {
      "text/html": [
       "<span style=\"None\">Running query in &#x27;sqlite:///hng_ride.db&#x27;</span>"
      ],
      "text/plain": [
       "Running query in 'sqlite:///hng_ride.db'"
      ]
     },
     "metadata": {},
     "output_type": "display_data"
    },
    {
     "data": {
      "text/html": [
       "<table>\n",
       "    <thead>\n",
       "        <tr>\n",
       "            <th>driver_id</th>\n",
       "            <th>total_rides_completed</th>\n",
       "        </tr>\n",
       "    </thead>\n",
       "    <tbody>\n",
       "        <tr>\n",
       "            <td>1</td>\n",
       "            <td>24</td>\n",
       "        </tr>\n",
       "        <tr>\n",
       "            <td>2</td>\n",
       "            <td>17</td>\n",
       "        </tr>\n",
       "        <tr>\n",
       "            <td>3</td>\n",
       "            <td>16</td>\n",
       "        </tr>\n",
       "        <tr>\n",
       "            <td>4</td>\n",
       "            <td>23</td>\n",
       "        </tr>\n",
       "        <tr>\n",
       "            <td>5</td>\n",
       "            <td>12</td>\n",
       "        </tr>\n",
       "        <tr>\n",
       "            <td>6</td>\n",
       "            <td>24</td>\n",
       "        </tr>\n",
       "        <tr>\n",
       "            <td>7</td>\n",
       "            <td>24</td>\n",
       "        </tr>\n",
       "        <tr>\n",
       "            <td>8</td>\n",
       "            <td>24</td>\n",
       "        </tr>\n",
       "        <tr>\n",
       "            <td>9</td>\n",
       "            <td>18</td>\n",
       "        </tr>\n",
       "        <tr>\n",
       "            <td>10</td>\n",
       "            <td>23</td>\n",
       "        </tr>\n",
       "    </tbody>\n",
       "</table>\n",
       "<span style=\"font-style:italic;text-align:center;\">Truncated to <a href=\"https://jupysql.ploomber.io/en/latest/api/configuration.html#displaylimit\">displaylimit</a> of 10.</span>"
      ],
      "text/plain": [
       "+-----------+-----------------------+\n",
       "| driver_id | total_rides_completed |\n",
       "+-----------+-----------------------+\n",
       "|     1     |           24          |\n",
       "|     2     |           17          |\n",
       "|     3     |           16          |\n",
       "|     4     |           23          |\n",
       "|     5     |           12          |\n",
       "|     6     |           24          |\n",
       "|     7     |           24          |\n",
       "|     8     |           24          |\n",
       "|     9     |           18          |\n",
       "|     10    |           23          |\n",
       "+-----------+-----------------------+\n",
       "Truncated to displaylimit of 10."
      ]
     },
     "execution_count": 83,
     "metadata": {},
     "output_type": "execute_result"
    }
   ],
   "source": [
    "%%sql\n",
    "    SELECT \n",
    "        rd.driver_id,\n",
    "        COUNT(rd.ride_id) AS total_rides_completed\n",
    "    FROM rides rd\n",
    "    JOIN payments pym\n",
    "    ON rd.ride_id = pym.ride_id\n",
    "    GROUP BY rd.driver_id"
   ]
  },
  {
   "cell_type": "code",
   "execution_count": 82,
   "id": "152bf99a",
   "metadata": {},
   "outputs": [
    {
     "data": {
      "text/html": [
       "<span style=\"None\">Running query in &#x27;sqlite:///hng_ride.db&#x27;</span>"
      ],
      "text/plain": [
       "Running query in 'sqlite:///hng_ride.db'"
      ]
     },
     "metadata": {},
     "output_type": "display_data"
    },
    {
     "data": {
      "text/html": [
       "<table>\n",
       "    <thead>\n",
       "        <tr>\n",
       "            <th>driver_id</th>\n",
       "            <th>name</th>\n",
       "            <th>total_months_active</th>\n",
       "        </tr>\n",
       "    </thead>\n",
       "    <tbody>\n",
       "        <tr>\n",
       "            <td>1.0</td>\n",
       "            <td>Driver_1</td>\n",
       "            <td>47</td>\n",
       "        </tr>\n",
       "        <tr>\n",
       "            <td>2.0</td>\n",
       "            <td>Driver_2</td>\n",
       "            <td>36</td>\n",
       "        </tr>\n",
       "        <tr>\n",
       "            <td>3.0</td>\n",
       "            <td>Driver_3</td>\n",
       "            <td>41</td>\n",
       "        </tr>\n",
       "        <tr>\n",
       "            <td>4.0</td>\n",
       "            <td>Driver_4</td>\n",
       "            <td>14</td>\n",
       "        </tr>\n",
       "        <tr>\n",
       "            <td>5.0</td>\n",
       "            <td>Driver_5</td>\n",
       "            <td>44</td>\n",
       "        </tr>\n",
       "        <tr>\n",
       "            <td>6.0</td>\n",
       "            <td>Driver_6</td>\n",
       "            <td>27</td>\n",
       "        </tr>\n",
       "        <tr>\n",
       "            <td>7.0</td>\n",
       "            <td>Driver_7</td>\n",
       "            <td>47</td>\n",
       "        </tr>\n",
       "        <tr>\n",
       "            <td>8.0</td>\n",
       "            <td>Driver_8</td>\n",
       "            <td>37</td>\n",
       "        </tr>\n",
       "        <tr>\n",
       "            <td>9.0</td>\n",
       "            <td>Driver_9</td>\n",
       "            <td>23</td>\n",
       "        </tr>\n",
       "        <tr>\n",
       "            <td>10.0</td>\n",
       "            <td>Driver_10</td>\n",
       "            <td>47</td>\n",
       "        </tr>\n",
       "    </tbody>\n",
       "</table>\n",
       "<span style=\"font-style:italic;text-align:center;\">Truncated to <a href=\"https://jupysql.ploomber.io/en/latest/api/configuration.html#displaylimit\">displaylimit</a> of 10.</span>"
      ],
      "text/plain": [
       "+-----------+-----------+---------------------+\n",
       "| driver_id |    name   | total_months_active |\n",
       "+-----------+-----------+---------------------+\n",
       "|    1.0    |  Driver_1 |          47         |\n",
       "|    2.0    |  Driver_2 |          36         |\n",
       "|    3.0    |  Driver_3 |          41         |\n",
       "|    4.0    |  Driver_4 |          14         |\n",
       "|    5.0    |  Driver_5 |          44         |\n",
       "|    6.0    |  Driver_6 |          27         |\n",
       "|    7.0    |  Driver_7 |          47         |\n",
       "|    8.0    |  Driver_8 |          37         |\n",
       "|    9.0    |  Driver_9 |          23         |\n",
       "|    10.0   | Driver_10 |          47         |\n",
       "+-----------+-----------+---------------------+\n",
       "Truncated to displaylimit of 10."
      ]
     },
     "execution_count": 82,
     "metadata": {},
     "output_type": "execute_result"
    }
   ],
   "source": [
    "%%sql\n",
    "SELECT\n",
    "        driver_id,\n",
    "        name,\n",
    "        (strftime('%Y', '2024-12-31') - strftime('%Y', signup_date)) * 12 +\n",
    "        (strftime('%m', '2024-12-31') - strftime('%m', signup_date)) + 1 AS total_months_active\n",
    "    FROM\n",
    "        drivers"
   ]
  },
  {
   "cell_type": "markdown",
   "id": "4f294135",
   "metadata": {},
   "source": [
    "Calculate the cancellation rate per city and identify which city had the highest cancellation rate?"
   ]
  },
  {
   "cell_type": "code",
   "execution_count": 107,
   "id": "ee80da91",
   "metadata": {},
   "outputs": [
    {
     "data": {
      "text/html": [
       "<span style=\"None\">Running query in &#x27;sqlite:///hng_ride.db&#x27;</span>"
      ],
      "text/plain": [
       "Running query in 'sqlite:///hng_ride.db'"
      ]
     },
     "metadata": {},
     "output_type": "display_data"
    },
    {
     "data": {
      "text/html": [
       "<table>\n",
       "    <thead>\n",
       "        <tr>\n",
       "            <th>pickup_city</th>\n",
       "            <th>total_rides</th>\n",
       "            <th>cancelled_rides</th>\n",
       "            <th>cancellation_rate</th>\n",
       "        </tr>\n",
       "    </thead>\n",
       "    <tbody>\n",
       "        <tr>\n",
       "            <td>Chicago</td>\n",
       "            <td>4458</td>\n",
       "            <td>859</td>\n",
       "            <td>0.1926873037236429</td>\n",
       "        </tr>\n",
       "    </tbody>\n",
       "</table>"
      ],
      "text/plain": [
       "+-------------+-------------+-----------------+--------------------+\n",
       "| pickup_city | total_rides | cancelled_rides | cancellation_rate  |\n",
       "+-------------+-------------+-----------------+--------------------+\n",
       "|   Chicago   |     4458    |       859       | 0.1926873037236429 |\n",
       "+-------------+-------------+-----------------+--------------------+"
      ]
     },
     "execution_count": 107,
     "metadata": {},
     "output_type": "execute_result"
    }
   ],
   "source": [
    "%%sql\n",
    "SELECT \n",
    "    pickup_city,\n",
    "    COUNT(rider_id) as total_rides,\n",
    "    SUM(CASE WHEN status = 'cancelled' THEN 1 ELSE 0 END) as cancelled_rides,\n",
    "    CAST(SUM(CASE WHEN status = 'cancelled' THEN 1 ELSE 0 END) AS REAL) / COUNT(rider_id) AS cancellation_rate\n",
    "FROM\n",
    "    rides\n",
    "WHERE\n",
    "    request_time BETWEEN '2021-06-01 00:00:00' AND '2024-12-31 23:59:59'\n",
    "GROUP BY\n",
    "    pickup_city\n",
    "ORDER BY\n",
    "    cancellation_rate DESC\n",
    "LIMIT 1"
   ]
  },
  {
   "cell_type": "markdown",
   "id": "fae96bbd",
   "metadata": {},
   "source": [
    "Identify riders who have taken more than 10 rides but never paid with cash."
   ]
  },
  {
   "cell_type": "code",
   "execution_count": 136,
   "id": "eeb126f2",
   "metadata": {},
   "outputs": [
    {
     "data": {
      "text/html": [
       "<span style=\"None\">Running query in &#x27;sqlite:///hng_ride.db&#x27;</span>"
      ],
      "text/plain": [
       "Running query in 'sqlite:///hng_ride.db'"
      ]
     },
     "metadata": {},
     "output_type": "display_data"
    },
    {
     "data": {
      "text/html": [
       "<table>\n",
       "    <thead>\n",
       "        <tr>\n",
       "            <th>rider_id</th>\n",
       "            <th>name</th>\n",
       "            <th>total_ride</th>\n",
       "        </tr>\n",
       "    </thead>\n",
       "    <tbody>\n",
       "        <tr>\n",
       "            <td>7823</td>\n",
       "            <td>Rider_7823</td>\n",
       "            <td>12</td>\n",
       "        </tr>\n",
       "    </tbody>\n",
       "</table>"
      ],
      "text/plain": [
       "+----------+------------+------------+\n",
       "| rider_id |    name    | total_ride |\n",
       "+----------+------------+------------+\n",
       "|   7823   | Rider_7823 |     12     |\n",
       "+----------+------------+------------+"
      ]
     },
     "execution_count": 136,
     "metadata": {},
     "output_type": "execute_result"
    }
   ],
   "source": [
    "%%sql\n",
    "SELECT \n",
    "    rd.rider_id,\n",
    "    rdr.name,\n",
    "    COUNT(rd.ride_id) total_ride\n",
    "FROM rides rd\n",
    "JOIN payments pym\n",
    "ON rd.ride_id = pym.ride_id\n",
    "JOIN riders rdr\n",
    "ON rd.rider_id = rdr.rider_id\n",
    "WHERE\n",
    "    pym.amount > 0\n",
    "    AND rd.request_time BETWEEN '2021-06-01 00:00:00' AND '2024-12-31 23:59:59'\n",
    "GROUP BY\n",
    "    rd.rider_id \n",
    "HAVING\n",
    "    COUNT(rd.ride_id) > 10\n",
    "    AND SUM(CASE WHEN pym.method = 'cash' THEN 1 ELSE 0 END) = 0;"
   ]
  },
  {
   "cell_type": "markdown",
   "id": "29814b13",
   "metadata": {},
   "source": [
    "Find the top 3 drivers in each city by total revenue earned between June 2021 and Dec 2024. If a driver has multiple cities, count revenue where they picked up passengers in that city."
   ]
  },
  {
   "cell_type": "code",
   "execution_count": null,
   "id": "9d1eacda",
   "metadata": {},
   "outputs": [
    {
     "data": {
      "text/html": [
       "<span style=\"None\">Running query in &#x27;sqlite:///hng_ride.db&#x27;</span>"
      ],
      "text/plain": [
       "Running query in 'sqlite:///hng_ride.db'"
      ]
     },
     "metadata": {},
     "output_type": "display_data"
    },
    {
     "data": {
      "text/html": [
       "<table>\n",
       "    <thead>\n",
       "        <tr>\n",
       "            <th>pickup_city</th>\n",
       "            <th>driver_name</th>\n",
       "            <th>total_revenue</th>\n",
       "            <th>rank</th>\n",
       "        </tr>\n",
       "    </thead>\n",
       "    <tbody>\n",
       "        <tr>\n",
       "            <td>Boston</td>\n",
       "            <td>Driver_1176</td>\n",
       "            <td>448.4</td>\n",
       "            <td>1</td>\n",
       "        </tr>\n",
       "        <tr>\n",
       "            <td>Boston</td>\n",
       "            <td>Driver_286</td>\n",
       "            <td>326.58</td>\n",
       "            <td>2</td>\n",
       "        </tr>\n",
       "        <tr>\n",
       "            <td>Boston</td>\n",
       "            <td>Driver_1141</td>\n",
       "            <td>315.88</td>\n",
       "            <td>3</td>\n",
       "        </tr>\n",
       "        <tr>\n",
       "            <td>Calgary</td>\n",
       "            <td>Driver_1980</td>\n",
       "            <td>476.91</td>\n",
       "            <td>1</td>\n",
       "        </tr>\n",
       "        <tr>\n",
       "            <td>Calgary</td>\n",
       "            <td>Driver_1059</td>\n",
       "            <td>346.86</td>\n",
       "            <td>2</td>\n",
       "        </tr>\n",
       "        <tr>\n",
       "            <td>Calgary</td>\n",
       "            <td>Driver_404</td>\n",
       "            <td>338.8</td>\n",
       "            <td>3</td>\n",
       "        </tr>\n",
       "        <tr>\n",
       "            <td>Chicago</td>\n",
       "            <td>Driver_413</td>\n",
       "            <td>449.45</td>\n",
       "            <td>1</td>\n",
       "        </tr>\n",
       "        <tr>\n",
       "            <td>Chicago</td>\n",
       "            <td>Driver_1410</td>\n",
       "            <td>421.9</td>\n",
       "            <td>2</td>\n",
       "        </tr>\n",
       "        <tr>\n",
       "            <td>Chicago</td>\n",
       "            <td>Driver_1941</td>\n",
       "            <td>331.53</td>\n",
       "            <td>3</td>\n",
       "        </tr>\n",
       "        <tr>\n",
       "            <td>L.A</td>\n",
       "            <td>Driver_1241</td>\n",
       "            <td>128.82999999999998</td>\n",
       "            <td>1</td>\n",
       "        </tr>\n",
       "    </tbody>\n",
       "</table>\n",
       "<span style=\"font-style:italic;text-align:center;\">Truncated to <a href=\"https://jupysql.ploomber.io/en/latest/api/configuration.html#displaylimit\">displaylimit</a> of 10.</span>"
      ],
      "text/plain": [
       "+-------------+-------------+--------------------+------+\n",
       "| pickup_city | driver_name |   total_revenue    | rank |\n",
       "+-------------+-------------+--------------------+------+\n",
       "|    Boston   | Driver_1176 |       448.4        |  1   |\n",
       "|    Boston   |  Driver_286 |       326.58       |  2   |\n",
       "|    Boston   | Driver_1141 |       315.88       |  3   |\n",
       "|   Calgary   | Driver_1980 |       476.91       |  1   |\n",
       "|   Calgary   | Driver_1059 |       346.86       |  2   |\n",
       "|   Calgary   |  Driver_404 |       338.8        |  3   |\n",
       "|   Chicago   |  Driver_413 |       449.45       |  1   |\n",
       "|   Chicago   | Driver_1410 |       421.9        |  2   |\n",
       "|   Chicago   | Driver_1941 |       331.53       |  3   |\n",
       "|     L.A     | Driver_1241 | 128.82999999999998 |  1   |\n",
       "+-------------+-------------+--------------------+------+\n",
       "Truncated to displaylimit of 10."
      ]
     },
     "execution_count": 149,
     "metadata": {},
     "output_type": "execute_result"
    }
   ],
   "source": [
    "%%sql\n",
    "WITH DriverRevenueByCity AS (\n",
    "    SELECT\n",
    "        rd.pickup_city,\n",
    "        dr.name AS driver_name,\n",
    "        SUM(p.amount) AS total_revenue\n",
    "    FROM\n",
    "        rides rd\n",
    "    JOIN payments p \n",
    "    ON rd.ride_id = p.ride_id\n",
    "    JOIN drivers dr \n",
    "    ON rd.driver_id = dr.driver_id\n",
    "    WHERE\n",
    "        p.amount > 0\n",
    "        AND rd.request_time BETWEEN '2021-06-01 00:00:00' AND '2024-12-31 23:59:59'\n",
    "    GROUP BY\n",
    "        rd.pickup_city, dr.name\n",
    "),\n",
    "RankedDrivers AS (\n",
    "    SELECT\n",
    "        pickup_city,\n",
    "        driver_name,\n",
    "        total_revenue,\n",
    "        ROW_NUMBER() OVER (\n",
    "            PARTITION BY pickup_city\n",
    "            ORDER BY total_revenue DESC\n",
    "        ) AS rank\n",
    "    FROM\n",
    "        DriverRevenueByCity\n",
    ")\n",
    "SELECT\n",
    "    pickup_city,\n",
    "    driver_name,\n",
    "    total_revenue,\n",
    "    rank\n",
    "FROM\n",
    "    RankedDrivers\n",
    "WHERE\n",
    "    rank <= 3\n",
    "ORDER BY\n",
    "    pickup_city, rank;\n"
   ]
  },
  {
   "cell_type": "markdown",
   "id": "63e2fcff",
   "metadata": {},
   "source": [
    "Management wants to know the top 10 drivers that are qualified to receive bonuses using the criteria below;\n",
    "at least 30 rides completed,\n",
    "an average rating ≥ 4.5, and\n",
    "a cancellation rate under 5%.\n"
   ]
  },
  {
   "cell_type": "code",
   "execution_count": 166,
   "id": "f10dc94e",
   "metadata": {},
   "outputs": [
    {
     "data": {
      "text/html": [
       "<span style=\"None\">Running query in &#x27;sqlite:///hng_ride.db&#x27;</span>"
      ],
      "text/plain": [
       "Running query in 'sqlite:///hng_ride.db'"
      ]
     },
     "metadata": {},
     "output_type": "display_data"
    },
    {
     "data": {
      "text/html": [
       "<table>\n",
       "    <thead>\n",
       "        <tr>\n",
       "            <th>name</th>\n",
       "            <th>average_rating</th>\n",
       "            <th>total_completed_rides</th>\n",
       "            <th>cancellation_rate_percent</th>\n",
       "        </tr>\n",
       "    </thead>\n",
       "    <tbody>\n",
       "        <tr>\n",
       "            <td>Driver_1005</td>\n",
       "            <td>4.8</td>\n",
       "            <td>31</td>\n",
       "            <td>0.0</td>\n",
       "        </tr>\n",
       "        <tr>\n",
       "            <td>Driver_1181</td>\n",
       "            <td>4.6</td>\n",
       "            <td>31</td>\n",
       "            <td>3.125</td>\n",
       "        </tr>\n",
       "    </tbody>\n",
       "</table>"
      ],
      "text/plain": [
       "+-------------+----------------+-----------------------+---------------------------+\n",
       "|     name    | average_rating | total_completed_rides | cancellation_rate_percent |\n",
       "+-------------+----------------+-----------------------+---------------------------+\n",
       "| Driver_1005 |      4.8       |           31          |            0.0            |\n",
       "| Driver_1181 |      4.6       |           31          |           3.125           |\n",
       "+-------------+----------------+-----------------------+---------------------------+"
      ]
     },
     "execution_count": 166,
     "metadata": {},
     "output_type": "execute_result"
    }
   ],
   "source": [
    "%%sql\n",
    "WITH DriverRideStats AS (\n",
    "    SELECT\n",
    "        driver_id,\n",
    "        COUNT(ride_id) AS total_rides_attempted,\n",
    "        SUM(CASE WHEN status = 'cancelled' THEN 1 ELSE 0 END) AS total_cancelled\n",
    "    FROM\n",
    "        rides\n",
    "    WHERE\n",
    "        request_time BETWEEN '2021-06-01 00:00:00' AND '2024-12-31 23:59:59'\n",
    "    GROUP BY\n",
    "        driver_id\n",
    "),\n",
    "DriverCompletedStats AS (\n",
    "    SELECT\n",
    "        rd.driver_id,\n",
    "        COUNT(rd.ride_id) AS total_completed_rides\n",
    "    FROM\n",
    "        rides rd\n",
    "    JOIN\n",
    "        payments p ON rd.ride_id = p.ride_id\n",
    "    WHERE\n",
    "        p.amount > 0\n",
    "        AND rd.request_time BETWEEN '2021-06-01 00:00:00' AND '2024-12-31 23:59:59'\n",
    "    GROUP BY\n",
    "        rd.driver_id\n",
    ")\n",
    "SELECT\n",
    "    dr.name,\n",
    "    dr.rating AS average_rating,\n",
    "    cs.total_completed_rides,\n",
    "    (CAST(rs.total_cancelled AS REAL) * 100.0 / rs.total_rides_attempted) AS cancellation_rate_percent\n",
    "FROM\n",
    "    drivers dr\n",
    "JOIN\n",
    "    DriverRideStats rs ON dr.driver_id = rs.driver_id\n",
    "JOIN\n",
    "    DriverCompletedStats cs ON dr.driver_id = cs.driver_id\n",
    "WHERE\n",
    "    cs.total_completed_rides >= 30\n",
    "    AND dr.rating >= 4.5\n",
    "    AND (CAST(rs.total_cancelled AS REAL) * 100.0 / rs.total_rides_attempted) < 5.0\n",
    "ORDER BY\n",
    "    cs.total_completed_rides DESC\n",
    "LIMIT 10; "
   ]
  }
 ],
 "metadata": {
  "kernelspec": {
   "display_name": "base",
   "language": "python",
   "name": "python3"
  },
  "language_info": {
   "codemirror_mode": {
    "name": "ipython",
    "version": 3
   },
   "file_extension": ".py",
   "mimetype": "text/x-python",
   "name": "python",
   "nbconvert_exporter": "python",
   "pygments_lexer": "ipython3",
   "version": "3.13.5"
  }
 },
 "nbformat": 4,
 "nbformat_minor": 5
}
